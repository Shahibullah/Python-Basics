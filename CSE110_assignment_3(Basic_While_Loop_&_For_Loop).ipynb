{
  "nbformat": 4,
  "nbformat_minor": 0,
  "metadata": {
    "colab": {
      "provenance": []
    },
    "kernelspec": {
      "name": "python3",
      "display_name": "Python 3"
    },
    "language_info": {
      "name": "python"
    }
  },
  "cells": [
    {
      "cell_type": "code",
      "execution_count": null,
      "metadata": {
        "colab": {
          "base_uri": "https://localhost:8080/"
        },
        "id": "MG7hcyYN_5ss",
        "outputId": "8f05f9fa-c4d3-434b-fc5e-f94207c97bb7"
      },
      "outputs": [
        {
          "output_type": "stream",
          "name": "stdout",
          "text": [
            "24,18,12,6,0,-6\n"
          ]
        }
      ],
      "source": [
        "#task 1(a)\n",
        "i = 24\n",
        "while i >= -6 :\n",
        "    if i == -6 :\n",
        "        print(i)\n",
        "    else:\n",
        "        print(i,end=\",\")\n",
        "    i-=6"
      ]
    },
    {
      "cell_type": "code",
      "source": [
        "#task 1 (b)\n",
        "i = -10\n",
        "while i<=20 :\n",
        "    if i == 20 :\n",
        "        print(i)\n",
        "    else:\n",
        "        print(i,end=\",\")\n",
        "    i+=5"
      ],
      "metadata": {
        "colab": {
          "base_uri": "https://localhost:8080/"
        },
        "id": "AXFyRCc_Axjt",
        "outputId": "ce874aff-c710-4444-89a8-ac1d2480b8bc"
      },
      "execution_count": null,
      "outputs": [
        {
          "output_type": "stream",
          "name": "stdout",
          "text": [
            "-10,-5,0,5,10,15,20\n"
          ]
        }
      ]
    },
    {
      "cell_type": "code",
      "source": [
        "#task 1 (d)\n",
        "i = 18\n",
        "while i <= 63 :\n",
        "    if i == 63 :\n",
        "        print(-1*i)\n",
        "    elif i%2 != 0 :\n",
        "        print(i*(-1),end=\",\")\n",
        "    else:\n",
        "        print(i,end=\",\")\n",
        "    i+=9"
      ],
      "metadata": {
        "colab": {
          "base_uri": "https://localhost:8080/"
        },
        "id": "ytr7Uh2hAzog",
        "outputId": "8abaae05-1da0-4e28-c499-c74ce6587045"
      },
      "execution_count": null,
      "outputs": [
        {
          "output_type": "stream",
          "name": "stdout",
          "text": [
            "18,-27,36,-45,54,-63\n"
          ]
        }
      ]
    },
    {
      "cell_type": "code",
      "source": [
        "#task 1 (d)\n",
        "i = 18\n",
        "while i <= 63 :\n",
        "    if i == 63 :\n",
        "        print(-1*i)\n",
        "    elif i%2 != 0 :\n",
        "        print(i*(-1),end=\",\")\n",
        "    else:\n",
        "        print(i,end=\",\")\n",
        "    i+=9"
      ],
      "metadata": {
        "colab": {
          "base_uri": "https://localhost:8080/"
        },
        "id": "WZqhzWZxA-X4",
        "outputId": "340b8284-3e8a-440c-cf61-4bdb6645cd72"
      },
      "execution_count": null,
      "outputs": [
        {
          "output_type": "stream",
          "name": "stdout",
          "text": [
            "18,-27,36,-45,54,-63\n"
          ]
        }
      ]
    },
    {
      "cell_type": "code",
      "source": [
        "#task 2\n",
        "x = input(\"car name : \")\n",
        "n = int (input(\"time you want to print :\"))\n",
        "for i in range (n):\n",
        "    print(x)"
      ],
      "metadata": {
        "colab": {
          "base_uri": "https://localhost:8080/"
        },
        "id": "U9s_9tRKBBD8",
        "outputId": "7be5f9c2-15be-4b52-d765-2ddd65a297ab"
      },
      "execution_count": null,
      "outputs": [
        {
          "output_type": "stream",
          "name": "stdout",
          "text": [
            "car name : Toyota\n",
            "time you want to print :3\n",
            "Toyota\n",
            "Toyota\n",
            "Toyota\n"
          ]
        }
      ]
    },
    {
      "cell_type": "code",
      "source": [
        "#task 3\n",
        "sum = 0\n",
        "for i in range (0,601):\n",
        "    if i % 7 == 0 and i % 9 ==0 :\n",
        "        sum += i\n",
        "print(sum)"
      ],
      "metadata": {
        "colab": {
          "base_uri": "https://localhost:8080/"
        },
        "id": "3h7pTX43BJX7",
        "outputId": "375064bf-c771-4dd3-afb8-9888c8a016fa"
      },
      "execution_count": null,
      "outputs": [
        {
          "output_type": "stream",
          "name": "stdout",
          "text": [
            "2835\n"
          ]
        }
      ]
    },
    {
      "cell_type": "code",
      "source": [
        "#task 4\n",
        "sum = 0\n",
        "\n",
        "seven = 0\n",
        "nine = 0\n",
        "for i in range (0,601):\n",
        "    if (i % 7 == 0 and i % 9 != 0) or (i % 7 != 0 and i % 9 ==0 ):\n",
        "        sum +=i\n",
        "print(sum)"
      ],
      "metadata": {
        "colab": {
          "base_uri": "https://localhost:8080/"
        },
        "id": "zWOdjjagBQnz",
        "outputId": "a41c8be8-5674-4251-fa69-4d49b99cf6c7"
      },
      "execution_count": null,
      "outputs": [
        {
          "output_type": "stream",
          "name": "stdout",
          "text": [
            "39814\n"
          ]
        }
      ]
    },
    {
      "cell_type": "code",
      "source": [
        "#task 5\n",
        "for i in range (11, 50,2):\n",
        "    print(i,end=' ')"
      ],
      "metadata": {
        "colab": {
          "base_uri": "https://localhost:8080/"
        },
        "id": "4s0LgnsJBVAd",
        "outputId": "939f0d7a-f406-4c1e-e2ce-17077fa537b3"
      },
      "execution_count": null,
      "outputs": [
        {
          "output_type": "stream",
          "name": "stdout",
          "text": [
            "11 13 15 17 19 21 23 25 27 29 31 33 35 37 39 41 43 45 47 49 "
          ]
        }
      ]
    },
    {
      "cell_type": "code",
      "source": [
        "#task 6\n",
        "n = int(input(\" n times  : \"))\n",
        "sum = 0\n",
        "neg = 0\n",
        "pos = 0\n",
        "for i in range (1,n+1):\n",
        "    if i % 2 == 0 :\n",
        "        k = (-1)*(i**2)\n",
        "        neg += k\n",
        "    else:\n",
        "        p = i**2\n",
        "        pos += p\n",
        "sum =  neg + pos\n",
        "print(sum)"
      ],
      "metadata": {
        "colab": {
          "base_uri": "https://localhost:8080/"
        },
        "id": "vEd4ECnDBZwa",
        "outputId": "714c14bb-457a-4dc4-eeba-79e581421125"
      },
      "execution_count": null,
      "outputs": [
        {
          "output_type": "stream",
          "name": "stdout",
          "text": [
            " n times  : 50\n",
            "-1275\n"
          ]
        }
      ]
    },
    {
      "cell_type": "code",
      "source": [
        "#task 7\n",
        "count = 0\n",
        "sum = 0\n",
        "\n",
        "for i in range (10):\n",
        "    num = int(input(\"enter an integer number : \"))\n",
        "    if num % 2 != 0 :\n",
        "         count += 1\n",
        "         sum += num\n",
        "print(f\"The total of the odd numbers is {sum}and their average is {sum/count}\")"
      ],
      "metadata": {
        "id": "j_JsEDCnBhgw"
      },
      "execution_count": null,
      "outputs": []
    },
    {
      "cell_type": "code",
      "source": [
        "#Task  8\n",
        "num =  int (input(\"enter an integer number :  \"))\n",
        "sum = 0\n",
        "for i in range (7,num+1,7):\n",
        "    sum += i\n",
        "print(sum)"
      ],
      "metadata": {
        "colab": {
          "base_uri": "https://localhost:8080/"
        },
        "id": "jUS-uTzqB2hF",
        "outputId": "aa8bbd3b-07d7-43d5-bd93-e50d8b249cdc"
      },
      "execution_count": null,
      "outputs": [
        {
          "output_type": "stream",
          "name": "stdout",
          "text": [
            "enter an integer number :  50\n",
            "196\n"
          ]
        }
      ]
    },
    {
      "cell_type": "code",
      "source": [
        "#Task - 9\n",
        "sum = 0\n",
        "for i in range (5):\n",
        "    num = int(input(\"enter an intger number : \"))\n",
        "    sum += num\n",
        "    print(sum)"
      ],
      "metadata": {
        "id": "5sK0PTKRB9uQ"
      },
      "execution_count": null,
      "outputs": []
    },
    {
      "cell_type": "code",
      "source": [
        "#Task - 10\n",
        "n = int(input(\"enter an integer number :  \"))\n",
        "count = 0\n",
        "while n > 0 :\n",
        "    k = n % 10\n",
        "    n = n // 10\n",
        "    count += 1\n",
        "    m = n // (10**(count+1))\n",
        "    if n == m :\n",
        "        print(k,end=\"\")\n",
        "    else:\n",
        "        print(k,end=\",\")"
      ],
      "metadata": {
        "colab": {
          "base_uri": "https://localhost:8080/"
        },
        "id": "NpJMVv_DCMbA",
        "outputId": "b10619c3-574d-47a5-8a3e-451f30300e5a"
      },
      "execution_count": null,
      "outputs": [
        {
          "output_type": "stream",
          "name": "stdout",
          "text": [
            "enter an integer number :  76543211234567\n",
            "7,6,5,4,3,2,1,1,2,3,4,5,6,7"
          ]
        }
      ]
    },
    {
      "cell_type": "code",
      "source": [
        "#task 11\n",
        "x = int(input(\"enter am enteger number : \"))\n",
        "c = 0\n",
        "while x > 0 :\n",
        "  x = x // 10\n",
        "  c += 1\n",
        "print(c)"
      ],
      "metadata": {
        "colab": {
          "base_uri": "https://localhost:8080/"
        },
        "id": "2TpKTuv8CdFH",
        "outputId": "7956ba0c-f3a5-4830-bbfd-ebeb47f69a05"
      },
      "execution_count": null,
      "outputs": [
        {
          "output_type": "stream",
          "name": "stdout",
          "text": [
            "enter am enteger number : 09876\n",
            "4\n"
          ]
        }
      ]
    },
    {
      "cell_type": "code",
      "source": [
        "#task 12\n",
        "num = int(input(\"enter an integer number : \"))\n",
        "count = len(str(num))\n",
        "while num > 0 :\n",
        "  num = num  // (10**count-1)\n",
        "  count -= 1\n",
        "  k = num %  (10**count-1)\n",
        "\n",
        "  print(num)\n",
        "\n",
        "\n"
      ],
      "metadata": {
        "id": "utMp8DhHY2WE"
      },
      "execution_count": null,
      "outputs": []
    }
  ]
}