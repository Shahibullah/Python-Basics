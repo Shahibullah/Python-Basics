{
  "cells": [
    {
      "cell_type": "code",
      "execution_count": null,
      "metadata": {
        "colab": {
          "base_uri": "https://localhost:8080/"
        },
        "id": "VWutrQ_e48mi",
        "outputId": "4d2a659b-ea0c-48b9-87b4-6fa2c96e15ed"
      },
      "outputs": [
        {
          "output_type": "stream",
          "name": "stdout",
          "text": [
            "3\n",
            "Numbers in the list:  [3]\n",
            "5\n",
            "Numbers in the list:  [3, 5]\n",
            "34\n",
            "Numbers in the list:  [3, 5, 34]\n",
            "-11\n",
            "Numbers in the list:  [3, 5, 34, -11]\n",
            "0\n",
            "Numbers in the list:  [3, 5, 34, -11, 0]\n"
          ]
        }
      ],
      "source": [
        "#task 1\n",
        "l=[]\n",
        "for i in range (0,5):\n",
        "  n=int(input())\n",
        "  l.append(n)\n",
        "  print(\"Numbers in the list: \",l)"
      ]
    },
    {
      "cell_type": "code",
      "source": [
        "#task 2\n",
        "n=input('Enter a list :')\n",
        "l=[]\n",
        "s=n.strip('[]').split(', ')\n",
        "\n",
        "for i in s:\n",
        "\n",
        "  l.append(int(i))\n",
        "if len(l)>=4:\n",
        "  print(l[2:-2])\n",
        "else:\n",
        "  print(\"Not possible\")"
      ],
      "metadata": {
        "colab": {
          "base_uri": "https://localhost:8080/"
        },
        "id": "jdbikDAlCVfw",
        "outputId": "893af691-fdbd-4235-ae03-02729ff4e541"
      },
      "execution_count": null,
      "outputs": [
        {
          "output_type": "stream",
          "name": "stdout",
          "text": [
            "Enter a list :10, 20, 24, 25, 26, 35, 70\n",
            "['10', '20', '24', '25', '26', '35', '70']\n",
            "10\n",
            "20\n",
            "24\n",
            "25\n",
            "26\n",
            "35\n",
            "70\n",
            "[24, 25, 26]\n"
          ]
        }
      ]
    },
    {
      "cell_type": "code",
      "source": [
        "#task 3\n",
        "l=[]\n",
        "for i in range (0,5):\n",
        "  n=int(input())\n",
        "  l.append(n)\n",
        "# print('Input data:',l)\n",
        "print('Printing values from the list in reverse order:')\n",
        "for j in range (-1,-len(l)-1,-1):\n",
        "  print(l[j])"
      ],
      "metadata": {
        "colab": {
          "base_uri": "https://localhost:8080/"
        },
        "id": "PlYoeyMiCc-G",
        "outputId": "01a059c7-9926-4630-bb05-fb4468eb28be"
      },
      "execution_count": null,
      "outputs": [
        {
          "output_type": "stream",
          "name": "stdout",
          "text": [
            "1\n",
            "2\n",
            "3\n",
            "4\n",
            "5\n",
            "Printing values from the list in reverse order:\n",
            "5\n",
            "4\n",
            "3\n",
            "2\n",
            "1\n"
          ]
        }
      ]
    },
    {
      "cell_type": "code",
      "source": [
        "#task 4\n",
        "n=input()\n",
        "s=n[1:-1].split(\", \")\n",
        "l=[]\n",
        "for i in s:\n",
        "  i=int(i)\n",
        "  i=i**2\n",
        "  l.append(i)\n",
        "print(l)"
      ],
      "metadata": {
        "colab": {
          "base_uri": "https://localhost:8080/"
        },
        "id": "t76lSyweCmE3",
        "outputId": "c7f04587-b15c-42ae-99db-8a3530524ae5"
      },
      "execution_count": null,
      "outputs": [
        {
          "output_type": "stream",
          "name": "stdout",
          "text": [
            "[1, 2, 3, 4, 5, 6, 7]\n",
            "[1, 4, 9, 16, 25, 36, 49]\n"
          ]
        }
      ]
    },
    {
      "cell_type": "code",
      "execution_count": null,
      "metadata": {
        "id": "QLRR7Fzx-ryR",
        "colab": {
          "base_uri": "https://localhost:8080/"
        },
        "outputId": "331a1d33-cf5c-4c47-9e0a-eafc13ffe7be"
      },
      "outputs": [
        {
          "output_type": "stream",
          "name": "stdout",
          "text": [
            "Original List: ['hey', 'there', '', \"what's\", '', 'up', '', '?']\n",
            "Modified List: ['hey', 'there', \"what's\", 'up', '?']\n"
          ]
        }
      ],
      "source": [
        "#task 5\n",
        "n=[\"hey\", \"there\", \"\", \"what's\", \"\", \"up\", \"\", \"?\"]\n",
        "l=[]\n",
        "for i in n:\n",
        "  if i!=\"\":\n",
        "    l.append(i)\n",
        "print('Original List:',n)\n",
        "print('Modified List:',l)"
      ]
    },
    {
      "cell_type": "code",
      "execution_count": null,
      "metadata": {
        "colab": {
          "base_uri": "https://localhost:8080/"
        },
        "id": "TkIaNcztCyb_",
        "outputId": "3bceb001-d8d6-4906-8a4f-830d819ff18c"
      },
      "outputs": [
        {
          "output_type": "stream",
          "name": "stdout",
          "text": [
            "give me a list7,13,2,10,6,-11,0\n",
            "My list:  [7, 13, 2, 10, 6, -11, 0]\n",
            "Largest number in the list is  13 which was found at index  1\n"
          ]
        }
      ],
      "source": [
        "#task6\n",
        "str1=input('Input  me a string Ex: 7,13,2,10,6,-11,0 ')\n",
        "list1 = str1.split(',')\n",
        "for i in range (len(list1)):\n",
        "  list1[i]=int(list1[i])\n",
        "print(\"My list: \",list1)\n",
        "max_location=0\n",
        "max_number=list1[max_location]\n",
        "for i in range(1,len(list1)):\n",
        "  if (list1[i]>max_number):\n",
        "    max_location=i\n",
        "    max_number= list1[i]\n",
        "print('Largest number in the list is ', max_number,'which was found at index ',max_location)"
      ]
    },
    {
      "cell_type": "code",
      "execution_count": null,
      "metadata": {
        "colab": {
          "base_uri": "https://localhost:8080/"
        },
        "id": "_yDCu994yazu",
        "outputId": "4204427c-c315-4f68-8d5a-29a32c4d1759"
      },
      "outputs": [
        {
          "output_type": "stream",
          "name": "stdout",
          "text": [
            "give me a string7,13,2,10,6,-11,0\n",
            "['7', '13', '2', '10', '6', '-11', '0']\n",
            "My list: [7, 13, 2, 10, 6, -11, 0]\n",
            "Largest number in the list is 13 which was found at index 1\n"
          ]
        }
      ],
      "source": [
        "#task 6\n",
        "n=input('give me a string')\n",
        "l=[]\n",
        "max=int()\n",
        "s=n.split(',')\n",
        "print(s)\n",
        "for i in s:\n",
        "  i=int(i)\n",
        "  l.append(i)\n",
        "print('My list:',l)\n",
        "for j in range (len(l)):\n",
        "  if l[j]>max:\n",
        "    max=l[j]\n",
        "    lrg=j\n",
        "print('Largest number in the list is',max,end=' ')\n",
        "print('which was found at index',lrg)"
      ]
    },
    {
      "cell_type": "code",
      "execution_count": null,
      "metadata": {
        "colab": {
          "base_uri": "https://localhost:8080/"
        },
        "id": "8VbPfYJ514sI",
        "outputId": "c5d8489c-a95c-4a80-e095-e0ecf40c79bc"
      },
      "outputs": [
        {
          "output_type": "stream",
          "name": "stdout",
          "text": [
            "[1, 4, 7, 5]\n",
            "[6, 1, 3, 9]\n",
            "[1, 4, 7, 6, 1, 3, 9]\n"
          ]
        }
      ],
      "source": [
        "#task 7\n",
        "List_one =input('')\n",
        "List_two =input('')\n",
        "l=[]\n",
        "\n",
        "s=List_one[1:-1].split(', ')\n",
        "for i in s:\n",
        "  i=int(i)\n",
        "  l.append(i)\n",
        "k=l[0:-1]\n",
        "\n",
        "p=List_two[1:-1].split(', ')\n",
        "for j in p:\n",
        "  j=int(j)\n",
        "  k.append(j)\n",
        "print(k)\n",
        "# [1, 4, 7, 5]\n",
        "# [6, 1, 3, 9]"
      ]
    },
    {
      "cell_type": "code",
      "source": [
        "#task 8\n",
        "list_one=input('')\n",
        "list_two=input('')\n",
        "l=[]\n",
        "s=list_one[1:-1].split(', ')\n",
        "for i in s:\n",
        "  i=int(i)\n",
        "  if i%2==0:\n",
        "    l.append(i)\n",
        "p=list_two[1:-1].split(', ')\n",
        "for j in p:\n",
        "  j=int(j)\n",
        "  if j%2==0:\n",
        "    l.append(j)\n",
        "print(l)"
      ],
      "metadata": {
        "id": "Lzgl868KDwfS"
      },
      "execution_count": null,
      "outputs": []
    },
    {
      "cell_type": "code",
      "execution_count": null,
      "metadata": {
        "colab": {
          "base_uri": "https://localhost:8080/"
        },
        "id": "MZfVVIWy-UXD",
        "outputId": "1848308a-78ab-44a8-ab28-ec6177a1aa43"
      },
      "outputs": [
        {
          "name": "stdout",
          "output_type": "stream",
          "text": [
            "7 12 4 55 96 2 11 61 33 42\n",
            "Original list: [7, 12, 4, 55, 96, 2, 11, 61, 33, 42]\n",
            "Modified list: [7, 55, 11, 61, 33]\n"
          ]
        }
      ],
      "source": [
        "#task9 #another method #with split\n",
        "n=input('')\n",
        "l=[]\n",
        "s=n.split(' ')\n",
        "for i in s:\n",
        "  i=int(i)\n",
        "  l.append(i)\n",
        "print('Original list:',l)\n",
        "k=[]\n",
        "for j in l:\n",
        "  if j%2!=0:\n",
        "    k.append(j)\n",
        "print('Modified list:',k)"
      ]
    },
    {
      "cell_type": "code",
      "execution_count": null,
      "metadata": {
        "colab": {
          "base_uri": "https://localhost:8080/"
        },
        "id": "8Mx5UxBh6POQ",
        "outputId": "65459fa9-9c86-4f6c-9c73-da0a269aae2b"
      },
      "outputs": [
        {
          "output_type": "stream",
          "name": "stdout",
          "text": [
            "[1, 2, 3, 4, 5, 6, 7, 8, 9]\n",
            "[10, 11, 12, -13, -14, -15, -16]\n",
            "[2, 4, 6, 8, 10, 12, -14, -16]\n"
          ]
        }
      ],
      "source": [
        "#task 8\n",
        "list_one=input('')\n",
        "list_two=input('')\n",
        "l=[]\n",
        "s=list_one[1:-1].split(', ')\n",
        "for i in s:\n",
        "  i=int(i)\n",
        "  if i%2==0:\n",
        "    l.append(i)\n",
        "p=list_two[1:-1].split(', ')\n",
        "for j in p:\n",
        "  j=int(j)\n",
        "  if j%2==0:\n",
        "    l.append(j)\n",
        "print(l)"
      ]
    },
    {
      "cell_type": "code",
      "execution_count": null,
      "metadata": {
        "colab": {
          "base_uri": "https://localhost:8080/"
        },
        "id": "qGWbKtJc8QH2",
        "outputId": "241f52f2-e325-4c03-8c5f-21f4a5e0d3d9"
      },
      "outputs": [
        {
          "output_type": "stream",
          "name": "stdout",
          "text": [
            "7 12 4 55 96 2 11 61 33 42\n",
            "7\n",
            "1\n",
            "12\n",
            "4\n",
            "5\n",
            "55\n",
            "9\n",
            "96\n",
            "2\n",
            "1\n",
            "11\n",
            "6\n",
            "61\n",
            "3\n",
            "33\n",
            "4\n",
            "42\n",
            "Original list: [7, 12, 4, 55, 96, 2, 11, 61, 33, 42]\n",
            "Modified list: [7, 55, 11, 61, 33]\n"
          ]
        }
      ],
      "source": [
        "#task 9\n",
        "n=input()\n",
        "l=[]\n",
        "m=''\n",
        "o=''\n",
        "for i in n:\n",
        "  if i!=\" \":\n",
        "   m=m+i\n",
        "  else:\n",
        "   o=int(m)\n",
        "   l.append(o)\n",
        "   m=''\n",
        "o=int(m)\n",
        "l.append(o)\n",
        "print('Original list:',l)\n",
        "k=[]\n",
        "for j in l:\n",
        "  if j%2!=0:\n",
        "    k.append(j)\n",
        "print('Modified list:',k)"
      ]
    },
    {
      "cell_type": "code",
      "execution_count": null,
      "metadata": {
        "colab": {
          "base_uri": "https://localhost:8080/"
        },
        "id": "cjuW_JXwCXK5",
        "outputId": "84b93cf9-8dd3-43b9-d9be-aeff2d9938fe"
      },
      "outputs": [
        {
          "output_type": "stream",
          "name": "stdout",
          "text": [
            "0, 0, 1, 2, 3, 4, 4, 5, 6, 6, 6, 7, 8, 9, 4, 4\n",
            "Input list: [0, 0, 1, 2, 3, 4, 4, 5, 6, 6, 6, 7, 8, 9, 4, 4]\n",
            "Modified list: [0, 1, 2, 3, 4, 5, 6, 7, 8, 9]\n"
          ]
        }
      ],
      "source": [
        "#task 10\n",
        "n=input('')\n",
        "l=[]\n",
        "s=n.split(',')\n",
        "for i in s:\n",
        "  i=int(i)\n",
        "  l.append(i)\n",
        "print('Input list:',l)\n",
        "k=[]\n",
        "for j in l:\n",
        "  if j not in k:\n",
        "    k.append(j)\n",
        "print(\"Modified list:\",k)"
      ]
    },
    {
      "cell_type": "code",
      "execution_count": null,
      "metadata": {
        "colab": {
          "base_uri": "https://localhost:8080/"
        },
        "id": "FxgUJr09ED-V",
        "outputId": "23641d80-8f20-4b14-f3f0-8dc3235395a1"
      },
      "outputs": [
        {
          "name": "stdout",
          "output_type": "stream",
          "text": [
            "[1, 4, 3, 2, 5]\n",
            "[8, 7, 6, 9]\n",
            "False\n"
          ]
        }
      ],
      "source": [
        "#task11\n",
        "list_one =input('')\n",
        "list_two=input('')\n",
        "l=[]\n",
        "s=list_one[1:-1].split(', ')\n",
        "for i in s:\n",
        "  i=int(i)\n",
        "  l.append(i)\n",
        "k=[]\n",
        "p=list_two[1:-1].split(', ')\n",
        "for j in p:\n",
        "  j=int(j)\n",
        "  k.append(j)\n",
        "for t in l:\n",
        "  for v in k:\n",
        "    if t==v:\n",
        "      print('True')\n",
        "      break\n",
        "if t!=v:\n",
        "  print('False')"
      ]
    },
    {
      "cell_type": "markdown",
      "metadata": {
        "id": "oGF0xT7ZCanj"
      },
      "source": [
        "[Ungraded]"
      ]
    },
    {
      "cell_type": "code",
      "execution_count": null,
      "metadata": {
        "colab": {
          "base_uri": "https://localhost:8080/"
        },
        "id": "5N-ND1QVCRBG",
        "outputId": "00d25dab-0dbd-4b56-fa52-85c51f61dd9c"
      },
      "outputs": [
        {
          "name": "stdout",
          "output_type": "stream",
          "text": [
            "7, 13, 2, 10, 6, -11, 0\n",
            "My list: [7, 13, 2, 10, 6, -11, 0]\n",
            "Second largest number in the list is 13 which was found at 0\n"
          ]
        }
      ],
      "source": [
        "#task16\n",
        "n=input('')\n",
        "l=[]\n",
        "s=n.split(', ')\n",
        "for i in s:\n",
        "  i=int(i)\n",
        "  l.append(i)\n",
        "print('My list:',l)\n",
        "max=int()\n",
        "for j in l:\n",
        "  if j>max:\n",
        "   max=j\n",
        "   l.remove(max)\n",
        "max_2=int()\n",
        "for k in l:\n",
        "  if k>max_2:\n",
        "   max_2=k\n",
        "print('Second largest number in the list is',max_2,'which was found at',l.index(max_2))\n"
      ]
    },
    {
      "cell_type": "code",
      "source": [
        "# Task 16\n",
        "l = [10, 20, 30, 40, 50]\n",
        "max_1 = max(l)\n",
        "l.remove(max_1)\n",
        "max_2 = max(l)\n",
        "\n",
        "\n",
        "index_max_2 = l.index(max_2)\n",
        "\n",
        "print('Second largest number in the list is', max_2, 'which was found at index', index_max_2)\n"
      ],
      "metadata": {
        "colab": {
          "base_uri": "https://localhost:8080/"
        },
        "id": "IJpAaEE8Uq4r",
        "outputId": "d9599c72-2d2c-404d-bbdb-977ea537f63f"
      },
      "execution_count": 1,
      "outputs": [
        {
          "output_type": "stream",
          "name": "stdout",
          "text": [
            "Second largest number in the list is 40 which was found at index 3\n"
          ]
        }
      ]
    }
  ],
  "metadata": {
    "colab": {
      "provenance": []
    },
    "kernelspec": {
      "display_name": "Python 3",
      "name": "python3"
    },
    "language_info": {
      "name": "python"
    }
  },
  "nbformat": 4,
  "nbformat_minor": 0
}