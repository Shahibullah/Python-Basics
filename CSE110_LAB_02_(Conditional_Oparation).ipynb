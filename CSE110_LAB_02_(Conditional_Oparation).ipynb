{
  "nbformat": 4,
  "nbformat_minor": 0,
  "metadata": {
    "colab": {
      "provenance": []
    },
    "kernelspec": {
      "name": "python3",
      "display_name": "Python 3"
    },
    "language_info": {
      "name": "python"
    }
  },
  "cells": [
    {
      "cell_type": "code",
      "execution_count": 2,
      "metadata": {
        "id": "OoM2X85PtBEF",
        "colab": {
          "base_uri": "https://localhost:8080/"
        },
        "outputId": "468de6e3-264a-4edf-acb8-19e2f0764ec5"
      },
      "outputs": [
        {
          "output_type": "stream",
          "name": "stdout",
          "text": [
            "first_number : 1\n",
            "second_number : 2\n",
            "Sum =  3\n",
            "Product =  2\n",
            "Difference =  -1\n"
          ]
        }
      ],
      "source": [
        "#Task 1\n",
        "first_number  = float(input(\"first_number : \"))\n",
        "second_number = float(input(\"second_number : \"))\n",
        "sum        = first_number + second_number\n",
        "product    = first_number * second_number\n",
        "difference = first_number - second_number\n",
        "print(\"Sum = \",       int(sum)       )\n",
        "print(\"Product = \",   int(product)   )\n",
        "print(\"Difference = \",int(difference))\n",
        "\n"
      ]
    },
    {
      "cell_type": "code",
      "source": [
        "#Task 2 (Area & circumference of Circle )\n",
        "import math\n",
        "radius = float(input(\"The radius of a circle : \"))\n",
        "circumference = 2* math.pi * radius\n",
        "area = math.pi * math.pow(radius,2)\n",
        "print(\"Area is \", format(area, '.2f'))\n",
        "print(\"Circumference is \",format(circumference,'.2f'))"
      ],
      "metadata": {
        "id": "zfsvNhRmIBS0",
        "colab": {
          "base_uri": "https://localhost:8080/"
        },
        "outputId": "9e40e394-2a55-4d09-ed75-3422487630de"
      },
      "execution_count": 19,
      "outputs": [
        {
          "output_type": "stream",
          "name": "stdout",
          "text": [
            "The radius of a circle : 3\n",
            "Area is  28.27\n",
            "Circumference is  18.85\n"
          ]
        }
      ]
    },
    {
      "cell_type": "code",
      "source": [
        "#Task 3\n",
        "first_no  = float (input(\"First Number : \" ))\n",
        "second_no = float (input(\"Second Number : \"))\n",
        "if   first_no > second_no :\n",
        "  print(  \"First is greater\"   )\n",
        "elif second_no > first_no :\n",
        "  print(  \"Second is greater\"  )\n",
        "else:\n",
        "  print(\"The numbers are equal\")\n"
      ],
      "metadata": {
        "id": "fbRjp7C3KKYm"
      },
      "execution_count": null,
      "outputs": []
    },
    {
      "cell_type": "code",
      "source": [
        "#Task 4\n",
        "first_no  = int(input(\"1st number : \"))\n",
        "second_no = int(input(\"2nd number : \"))\n",
        "if    first_no > second_no :\n",
        "  print(first_no - second_no)\n",
        "elif second_no > first_no  :\n",
        "  print(second_no - first_no)\n",
        "else:\n",
        "  print(0)"
      ],
      "metadata": {
        "id": "ccz2CA7tML0N"
      },
      "execution_count": null,
      "outputs": []
    },
    {
      "cell_type": "code",
      "source": [
        "#Task 5\n",
        "number = int(input(\"Even or odd chceker : \"))\n",
        "if   number % 2 != 0 :\n",
        "  print(\"The number is odd\")\n",
        "elif number % 2 == 0 :\n",
        "  print(\"The number is even\")"
      ],
      "metadata": {
        "id": "UFqPidUMOB_U"
      },
      "execution_count": null,
      "outputs": []
    },
    {
      "cell_type": "code",
      "source": [
        "#Task 6\n",
        "number = int(input(\"Enter the number that divisior of 2 OR 5 or not :\"))\n",
        "if number %  2 == 0 or number % 5 == 0 :\n",
        "  print(number)\n",
        "else:\n",
        "  print(\"Not a multiple of 2 OR 5\")"
      ],
      "metadata": {
        "id": "FQyyQmiUOywB"
      },
      "execution_count": null,
      "outputs": []
    },
    {
      "cell_type": "code",
      "source": [
        "#Task 7\n",
        "number = int(input(\"Enter an intger number : \"))\n",
        "if number % 2 == 0 and number % 5 == 0 :\n",
        "  print(\"Multiple of 2 and 5 both\")\n",
        "elif number % 2 == 0 or number % 5 == 0 :\n",
        "  print(number)\n",
        "else:\n",
        "  print(\"Not a multiple we want\")"
      ],
      "metadata": {
        "colab": {
          "base_uri": "https://localhost:8080/"
        },
        "id": "RwB9g663V9eP",
        "outputId": "f4d069e3-7cca-46a9-8137-967910775844"
      },
      "execution_count": null,
      "outputs": [
        {
          "output_type": "stream",
          "name": "stdout",
          "text": [
            "Enter an intger number : 12\n",
            "12\n"
          ]
        }
      ]
    },
    {
      "cell_type": "code",
      "source": [
        "#Task 8\n",
        "number = int(input(\"Enter an integer number : \"))\n",
        "if number % 2 == 0 and number % 5 == 0 :\n",
        "  print(number)\n",
        "else:\n",
        "  print(\"Not multiple of 2 and 5 both\")"
      ],
      "metadata": {
        "id": "psH_rV0XWLEn"
      },
      "execution_count": null,
      "outputs": []
    },
    {
      "cell_type": "code",
      "source": [
        "#Task 9\n",
        "seconds = int(input(\"Enter the amount of seconds : \"))\n",
        "hour    =  (seconds/3600)\n",
        "hours   =  (seconds//3600)\n",
        "min     =  (hour-hours)*60\n",
        "mins    =  int(min)\n",
        "sec     =  (min-mins)*60\n",
        "secs    =  int(sec)\n",
        "print(f\"Hours: {hours} Minutes: {mins} Seconds: {secs}\")"
      ],
      "metadata": {
        "id": "BqR7s-NWXDWF",
        "colab": {
          "base_uri": "https://localhost:8080/"
        },
        "outputId": "ab90a32b-c03f-47d2-a7be-13728e98cfc0"
      },
      "execution_count": null,
      "outputs": [
        {
          "output_type": "stream",
          "name": "stdout",
          "text": [
            "Enter the amount of seconds : 10000\n",
            "Hours: 2 Minutes: 46 Seconds: 39\n"
          ]
        }
      ]
    },
    {
      "cell_type": "code",
      "source": [
        "#Task 10\n",
        "hour = int(input(\"Number of hours : \"))\n",
        "if hour > (24*7):\n",
        "  print(\"Impossible to work more than 168 hours weekly\")\n",
        "if hour   <   0 :\n",
        "    print(\"Hour cannot be negative\")\n",
        "if hour > 0 :\n",
        "  if hour <= 40 :\n",
        "    print(hour*200)\n",
        "  else:\n",
        "    print(8000+(hour-40)*300)"
      ],
      "metadata": {
        "id": "pncVDOZwo7IO"
      },
      "execution_count": null,
      "outputs": []
    },
    {
      "cell_type": "code",
      "source": [
        "#Task 11\n",
        "import math\n",
        "\n",
        "S = float(input(\"S :\"))\n",
        "if S < 100 :\n",
        "  L = int(3000 - 125 * math.pow(S,2))\n",
        "elif S >= 100 :\n",
        "  L = 12000 / (4+(math.pow(S,2)/14900))\n",
        "print(L)"
      ],
      "metadata": {
        "id": "bq5gbHSQq5h-"
      },
      "execution_count": null,
      "outputs": []
    },
    {
      "cell_type": "code",
      "source": [
        "#Task 12\n",
        "time = int(input(\"The time : \"))\n",
        "if 0 >= time or time >= 24 :\n",
        "  print(\"Wrong time\")\n",
        "else:\n",
        "  if  4 <= time <= 6:\n",
        "    print(\"Breakfast\")\n",
        "  elif 12 <= time <= 13:\n",
        "    print(\"Lunch\")\n",
        "  elif 16 <= time <= 17:\n",
        "    print(\"Snacks\")\n",
        "  elif 19 <= time <= 20:\n",
        "    print(\"Dinner\")\n",
        "  else:\n",
        "    print(\"Patience is a virtue\")\n"
      ],
      "metadata": {
        "id": "5ts6m6w2tVnj"
      },
      "execution_count": null,
      "outputs": []
    },
    {
      "cell_type": "code",
      "source": [
        "#Task 13\n",
        "mark = int(input(\"Enter the mark\"))\n",
        "if       0<= mark <=100 :\n",
        "  if 90   <= mark       :\n",
        "    print(\"A\")\n",
        "  elif 80 <= mark <= 89 :\n",
        "    print(\"B\")\n",
        "  elif 70 <= mark <= 79 :\n",
        "    print(\"C\")\n",
        "  elif 60 <= mark <= 69 :\n",
        "    print(\"D\")\n",
        "  elif 50<= mark <= 59  :\n",
        "    print(\"E\")\n",
        "  elif      mark < 50   :\n",
        "    print(\"F\")\n"
      ],
      "metadata": {
        "id": "8NWNmqubxIhp"
      },
      "execution_count": null,
      "outputs": []
    },
    {
      "cell_type": "code",
      "source": [
        "#Task 14\n",
        "meters    = int(input(\" Meters  : \"))\n",
        "seconds   = int(input(\" Seconds : \"))\n",
        "km_per_hr = ((meters/1000)/(seconds/3600))\n",
        "print(km_per_hr,\"km/h\")\n",
        "if km_per_hr    <=     60 :\n",
        "  print(\"Too slow. Needs more changes\")\n",
        "elif 60 < km_per_hr < 90 :\n",
        "  print(\"Velocity is okay. The car is ready!\")\n",
        "elif km_per_hr > 90 :\n",
        "  print(\"Too fast. Only a few changes should suffice.\")"
      ],
      "metadata": {
        "id": "BwCoI4lNzXBJ"
      },
      "execution_count": null,
      "outputs": []
    },
    {
      "cell_type": "code",
      "source": [
        "#Task 15\n",
        "cgpa    = float(input(\"CGPA : \"))\n",
        "credits = int(input( \"Credits\" ))\n",
        "if credits < 30 :\n",
        "  print(\"The student is not eligible for a waiver\")\n",
        "else:\n",
        "  if 3.80 <= cgpa <= 3.89 :\n",
        "    print(\"The student is eligible for a waiver of 25 percent\")\n",
        "  if 3.90 <= cgpa <= 3.94 :\n",
        "    print(\"The student is eligible for a waiver of 50 percent\")\n",
        "  if 3.95 <= cgpa <= 3.99 :\n",
        "    print(\"The student is eligible for a waiver of 75 percent\")\n",
        "  if 3.99 < cgpa <= 4.00 :\n",
        "    print(\"The student is eligible for a waiver of 100 percent\")\n",
        "\n"
      ],
      "metadata": {
        "id": "q9T6Glq3HjoY",
        "colab": {
          "base_uri": "https://localhost:8080/"
        },
        "outputId": "2d703478-d31d-44c1-8eb8-9eac0ce306b2"
      },
      "execution_count": 25,
      "outputs": [
        {
          "output_type": "stream",
          "name": "stdout",
          "text": [
            "CGPA : 3.25\n",
            "Credits15\n",
            "The student is not eligible for a waiver\n"
          ]
        }
      ]
    },
    {
      "cell_type": "code",
      "source": [
        "#Task 20\n",
        "\n",
        "number = int(input(\"Enter an integer \"))\n",
        "if number %  2 == 0 and number % 5 == 0 :\n",
        "  print(\"No\")\n",
        "elif number %  2 == 0 or number % 5 == 0 :\n",
        "  print(\"No\")\n",
        "else:\n",
        "  print(number)\n"
      ],
      "metadata": {
        "id": "_a2s5iA_KkUI",
        "colab": {
          "base_uri": "https://localhost:8080/"
        },
        "outputId": "bbdfc85a-859e-49f4-80db-d91b5010648a"
      },
      "execution_count": 24,
      "outputs": [
        {
          "output_type": "stream",
          "name": "stdout",
          "text": [
            "Enter an integer 4\n",
            "No\n"
          ]
        }
      ]
    },
    {
      "cell_type": "code",
      "source": [
        "#Task 21\n",
        "\n",
        "number = int(input(\"Enter an integer \"))\n",
        "if number %  2 == 0  and number % 5 == 0 :\n",
        "  print(\"No\")\n",
        "elif number %  2 == 0 or number % 5 != 0 :\n",
        "  print(number)\n",
        "elif number %  2 != 0 or number % 5 == 0 :\n",
        "  print(number)\n"
      ],
      "metadata": {
        "id": "JgA5qtkRMbfW",
        "colab": {
          "base_uri": "https://localhost:8080/"
        },
        "outputId": "19c8903a-524e-4b49-8e66-3e9a19a0f5ea"
      },
      "execution_count": 23,
      "outputs": [
        {
          "output_type": "stream",
          "name": "stdout",
          "text": [
            "Enter an integer 3\n",
            "3\n"
          ]
        }
      ]
    },
    {
      "cell_type": "code",
      "source": [
        "#Task 22\n",
        "no_canvas     = int(input(\"Number   of   canvas :\"))\n",
        "no_paint_tube = int(input(\"Number of paint tube :\"))\n",
        "total = no_canvas * 120 + no_paint_tube * 75\n",
        "print(\"Previous total: \",total)\n",
        "if     0  <= total <= 299 :\n",
        "  print(\"New total after discount:\",total + 0)\n",
        "elif 300  <= total <=  499 :\n",
        "  print(\"New total after discount:\",total + 10)\n",
        "elif 500  <= total <=  749 :\n",
        "  print(\"New total after discount:\",total + 20)\n",
        "elif 750  <= total <=  999 :\n",
        "  print(\"New total after discount:\",total + 50)\n",
        "elif         total >= 1000 :\n",
        "  print(\"New total after discount:\",total + 150)"
      ],
      "metadata": {
        "id": "fDrIOco-NErd",
        "colab": {
          "base_uri": "https://localhost:8080/"
        },
        "outputId": "6c38cbc7-f9d5-4ac6-dba4-69f0d79c44a8"
      },
      "execution_count": 22,
      "outputs": [
        {
          "output_type": "stream",
          "name": "stdout",
          "text": [
            "Number   of   canvas :3\n",
            "Number of paint tube :3\n",
            "Previous total:  585\n",
            "New total after discount: 605\n"
          ]
        }
      ]
    },
    {
      "cell_type": "code",
      "source": [
        "#Task 23\n",
        "import math\n",
        "temperature = int(input(\"temperature in  Fahrenheit : \"))\n",
        "celsius = int(((temperature) - 32) * 0.56)\n",
        "print(celsius,\" degrees C\")\n",
        "\n",
        "if -math.inf <= celsius <  20 :\n",
        "  print(\"Winter\")\n",
        "elif      20 <= celsius <= 25 :\n",
        "  print(\"Autumn\")\n",
        "elif       25 < celsius <  30 :\n",
        "  print(\"Spring\")\n",
        "elif            celsius >= 30 :\n",
        "  print(\"Summer\")"
      ],
      "metadata": {
        "colab": {
          "base_uri": "https://localhost:8080/"
        },
        "id": "USSaz-ogQjoE",
        "outputId": "bef024ae-371b-435c-f9c1-c84b330b2013"
      },
      "execution_count": 20,
      "outputs": [
        {
          "output_type": "stream",
          "name": "stdout",
          "text": [
            "temperature in  Fahrenheit : 102\n",
            "39  degrees C\n",
            "Summer\n"
          ]
        }
      ]
    }
  ]
}