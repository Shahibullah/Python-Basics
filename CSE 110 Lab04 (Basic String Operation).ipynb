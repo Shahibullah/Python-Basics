{
  "nbformat": 4,
  "nbformat_minor": 0,
  "metadata": {
    "colab": {
      "provenance": []
    },
    "kernelspec": {
      "name": "python3",
      "display_name": "Python 3"
    },
    "language_info": {
      "name": "python"
    }
  },
  "cells": [
    {
      "cell_type": "code",
      "execution_count": null,
      "metadata": {
        "colab": {
          "base_uri": "https://localhost:8080/"
        },
        "id": "Qj1Hnnkh2uUK",
        "outputId": "5c5eb1d3-0bea-4450-abcf-ba0bf53c963a"
      },
      "outputs": [
        {
          "output_type": "stream",
          "name": "stdout",
          "text": [
            "CSE110\n",
            "011ESC\n"
          ]
        }
      ],
      "source": [
        "#Task-1\n",
        "str1 = input()\n",
        "k = str1[::-1]\n",
        "print(k)"
      ]
    },
    {
      "cell_type": "code",
      "source": [
        "#Task - 2\n",
        "str1 = input()\n",
        "num = int(input())\n",
        "k = str1[0:num+1]\n",
        "p = k[::-1] + str1[num+1::]\n",
        "print(p)"
      ],
      "metadata": {
        "colab": {
          "base_uri": "https://localhost:8080/"
        },
        "id": "yKTWx7Sb3q3T",
        "outputId": "5ebb2a00-9b36-4066-aa78-06f9c2cf34e1"
      },
      "execution_count": null,
      "outputs": [
        {
          "output_type": "stream",
          "name": "stdout",
          "text": [
            "aBcd1234defg\n",
            "5\n",
            "21dcBa34defg\n"
          ]
        }
      ]
    },
    {
      "cell_type": "code",
      "source": [
        "#Task-3\n",
        "bn = \"Binary Number\"\n",
        "str1 = input ()\n",
        "for i in str1 :\n",
        "  if i != \"0\" and i != \"1\" :\n",
        "    bn = \"Not a Binary Number\"\n",
        "    break\n",
        "print(bn)"
      ],
      "metadata": {
        "colab": {
          "base_uri": "https://localhost:8080/"
        },
        "id": "NXstV1xt6Wkv",
        "outputId": "e976ace3-b866-4fae-fcbb-a7ea321b13e1"
      },
      "execution_count": null,
      "outputs": [
        {
          "output_type": "stream",
          "name": "stdout",
          "text": [
            "1111111110\n",
            "Binary Number\n"
          ]
        }
      ]
    },
    {
      "cell_type": "code",
      "source": [
        "#task - 3\n",
        "bn_test = input()\n",
        "len_of_bn_test = len(bn_test)\n",
        "\n",
        "\n",
        "not_binary_count = 0\n",
        "binary_count = 0\n",
        "\n",
        "for i in bn_test :\n",
        "  if i != \"0\" and i != \"1\" :\n",
        "    not_binary_count += 1\n",
        "    if not_binary_count > 0 :\n",
        "      print(\"Not a Binary Number\")\n",
        "      break\n",
        "\n",
        "\n",
        "  elif i == \"0\" or i == \"1\" :\n",
        "    binary_count += 1\n",
        "    if binary_count == len_of_bn_test:\n",
        "      print(\"Binary Number\")\n"
      ],
      "metadata": {
        "colab": {
          "base_uri": "https://localhost:8080/"
        },
        "id": "gJ3UlP78_y8s",
        "outputId": "7dae2165-e728-4862-ed8b-aa6c664af31c"
      },
      "execution_count": null,
      "outputs": [
        {
          "output_type": "stream",
          "name": "stdout",
          "text": [
            "1111000\n",
            "Binary Number\n"
          ]
        }
      ]
    },
    {
      "cell_type": "code",
      "source": [
        "#Task-4\n",
        "\n",
        "x = input()\n",
        "\n",
        "lenx = len(x)\n",
        "\n",
        "est = x[len(x)-3::]\n",
        "\n",
        "er  = x[len(x)-2::] #last \"er\"\n",
        "add_er = x[:-2:1] #aer to #a\n",
        "\n",
        "\n",
        "if est == \"est\" :\n",
        "  print(x)\n",
        "\n",
        "elif er == \"er\":\n",
        "  print(add_er+\"est\")\n",
        "\n",
        "elif lenx > 3 :\n",
        "  print(x+\"er\")\n",
        "\n",
        "elif lenx < 4 :\n",
        "  print(x)\n"
      ],
      "metadata": {
        "colab": {
          "base_uri": "https://localhost:8080/"
        },
        "id": "YqBIQLruLXkN",
        "outputId": "84b981e7-d6fd-46eb-e5c7-79ccf9f20dbf"
      },
      "execution_count": null,
      "outputs": [
        {
          "output_type": "stream",
          "name": "stdout",
          "text": [
            "ber\n",
            "best\n"
          ]
        }
      ]
    },
    {
      "cell_type": "code",
      "source": [
        "#Task- 5\n",
        "x = input()\n",
        "v = \"\"\n",
        "for i in range(len(x)):\n",
        "  v = v +(x[i])\n",
        "  print(v)"
      ],
      "metadata": {
        "colab": {
          "base_uri": "https://localhost:8080/"
        },
        "id": "HY725DEKqfaF",
        "outputId": "01306ec5-9542-4e9f-bfad-82ffc78c0f6b"
      },
      "execution_count": null,
      "outputs": [
        {
          "output_type": "stream",
          "name": "stdout",
          "text": [
            "CSE110\n",
            "C\n",
            "CS\n",
            "CSE\n",
            "CSE1\n",
            "CSE11\n",
            "CSE110\n"
          ]
        }
      ]
    },
    {
      "cell_type": "code",
      "source": [
        "#task - 6\n",
        "x = input()\n",
        "for i in x :\n",
        "  print(i ,\":\", ord(i))"
      ],
      "metadata": {
        "colab": {
          "base_uri": "https://localhost:8080/"
        },
        "id": "BUPhZ6Vssi1h",
        "outputId": "5f8ed9fa-97f8-4900-ade1-9c959a4dd6c7"
      },
      "execution_count": null,
      "outputs": [
        {
          "output_type": "stream",
          "name": "stdout",
          "text": [
            "Programming\n",
            "P : 80\n",
            "r : 114\n",
            "o : 111\n",
            "g : 103\n",
            "r : 114\n",
            "a : 97\n",
            "m : 109\n",
            "m : 109\n",
            "i : 105\n",
            "n : 110\n",
            "g : 103\n"
          ]
        }
      ]
    },
    {
      "cell_type": "code",
      "source": [
        "#Task - 7\n",
        "x = input()\n",
        "a = ord(\"a\")\n",
        "z = ord(\"z\")\n",
        "\n",
        "for i in x :\n",
        "  if ord(i) >= a and ord(i) <= z :\n",
        "    if ord(i) == z :\n",
        "      print(\"a\",end=\"\")\n",
        "    else:\n",
        "      k = ord(i)+1\n",
        "      print(chr(k),end=\"\")"
      ],
      "metadata": {
        "colab": {
          "base_uri": "https://localhost:8080/"
        },
        "id": "POjTCxm71n4B",
        "outputId": "f3ec7a3a-8feb-48ad-bb1a-3b749d56850a"
      },
      "execution_count": null,
      "outputs": [
        {
          "output_type": "stream",
          "name": "stdout",
          "text": [
            "xyzabc\n",
            "yzabcd"
          ]
        }
      ]
    },
    {
      "cell_type": "code",
      "source": [
        "#Task - 8\n",
        "x = input()\n",
        "A = ord(\"A\")\n",
        "a = ord(\"a\")\n",
        "changes = a - A\n",
        "for i in range (len(x)):\n",
        "  if i%2 == 0 :\n",
        "    k = x[i+1]\n",
        "    for j in k :\n",
        "      new =chr(ord(j)-changes)\n",
        "      print(new,end=\"\")\n",
        "\n"
      ],
      "metadata": {
        "colab": {
          "base_uri": "https://localhost:8080/"
        },
        "id": "7-5DoLQl9Ohp",
        "outputId": "99ecf7c0-2529-4698-bbd3-c4b3d5898ad8"
      },
      "execution_count": null,
      "outputs": [
        {
          "output_type": "stream",
          "name": "stdout",
          "text": [
            "TIG"
          ]
        }
      ]
    },
    {
      "cell_type": "code",
      "source": [
        "#Task - 9\n",
        "x = input()\n",
        "temp = \"\"\n",
        "for i in x :\n",
        "  if temp == \"\" or i != temp[len(temp)-1::] :\n",
        "    temp += i\n",
        "print(temp,end=\"\")\n"
      ],
      "metadata": {
        "colab": {
          "base_uri": "https://localhost:8080/"
        },
        "id": "LLFydE4E9PaH",
        "outputId": "cc904e8b-5a2f-4cdc-bb6a-bfc87109e281"
      },
      "execution_count": null,
      "outputs": [
        {
          "output_type": "stream",
          "name": "stdout",
          "text": [
            "AAACCCXXXXSAEWAAA\n",
            "ACXSAEWA"
          ]
        }
      ]
    },
    {
      "cell_type": "code",
      "source": [
        "#Task - 10\n",
        "str1 = input()\n",
        "for i in range (len(str1)):\n",
        "  if str1[i] == \",\" :\n",
        "    var1 = str1[:i:]\n",
        "  if str1[i] == \" \" :\n",
        "    var2 = str1[i+1::]\n",
        "\n",
        "new = \"\"\n",
        "if len(var1) < len(var2):\n",
        "  k = var2[len(var1):]\n",
        "  for i in range (len(var1)):\n",
        "    new = new + var1[i]+var2[i]\n",
        "  print(new+k,end=\"\")\n",
        "elif len(var1) > len(var2):\n",
        "  k = var1[len(var2):]\n",
        "  for i in range (len(var2)):\n",
        "    new = new + var1[i]+var2[i]\n",
        "  print(new+k,end=\"\")\n",
        "else:\n",
        "  for i in range (len(var1)):\n",
        "    new= new + var1[i] + var2[i]\n",
        "  print(new,end=\"\")\n"
      ],
      "metadata": {
        "colab": {
          "base_uri": "https://localhost:8080/"
        },
        "id": "39W0z0cBMfpq",
        "outputId": "9eb4c179-4b60-4baa-8e40-b46704cf13ca"
      },
      "execution_count": null,
      "outputs": [
        {
          "output_type": "stream",
          "name": "stdout",
          "text": [
            "ABCD, 1234567\n",
            "A1B2C3D4567"
          ]
        }
      ]
    }
  ]
}
