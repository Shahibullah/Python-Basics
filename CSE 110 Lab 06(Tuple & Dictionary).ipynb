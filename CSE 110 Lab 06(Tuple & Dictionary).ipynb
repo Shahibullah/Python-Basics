{
  "nbformat": 4,
  "nbformat_minor": 0,
  "metadata": {
    "colab": {
      "provenance": [],
      "toc_visible": true
    },
    "kernelspec": {
      "name": "python3",
      "display_name": "Python 3"
    },
    "language_info": {
      "name": "python"
    }
  },
  "cells": [
    {
      "cell_type": "code",
      "execution_count": null,
      "metadata": {
        "colab": {
          "base_uri": "https://localhost:8080/"
        },
        "id": "X8CZkd5u2x3d",
        "outputId": "0af93a79-55c3-4004-d1d3-34be632931b7"
      },
      "outputs": [
        {
          "output_type": "stream",
          "name": "stdout",
          "text": [
            "400\n"
          ]
        }
      ],
      "source": [
        "#task 1\n",
        "a_tuple = (\"The Institute\", (\"Best Mystery & Thriller\", \"The Silent Patient\", 68821), 75717,\n",
        "[1, 2, 3, 400, 5, 6, 7], (\"Best Fiction\", \"The Testaments\", 98291))\n",
        "print((a_tuple)[3][-4])"
      ]
    },
    {
      "cell_type": "code",
      "source": [
        "#task 2\n",
        "t=input()\n",
        "l=[]\n",
        "p=t[1:-1].split(', ')\n",
        "for i in p:\n",
        "  l.append(int(i))\n",
        "m=tuple(l)\n",
        "print(m[2:-2])"
      ],
      "metadata": {
        "colab": {
          "base_uri": "https://localhost:8080/"
        },
        "id": "PFM84wJE3Fzw",
        "outputId": "11c3b889-3d85-4601-9337-0ee64f973f3c"
      },
      "execution_count": null,
      "outputs": [
        {
          "output_type": "stream",
          "name": "stdout",
          "text": [
            "(10, 20, 24, 25, 26, 35, 70)\n",
            "(24, 25, 26)\n"
          ]
        }
      ]
    },
    {
      "cell_type": "code",
      "source": [
        "#task 3\n",
        "book_info = (\n",
        "(\"Best Mystery & Thriller\",\"The Silent Patient\",68,821),\n",
        "(\"Best Horror\",\"The Institute\",75,717),\n",
        "(\"Best History & Biography\",\"The five\",31,783 ),\n",
        "(\"Best Fiction\",\"The Testaments\",98,291)\n",
        ")\n",
        "print('Size of the tuple is:',len(book_info))\n",
        "for i in book_info:\n",
        "  print(i)"
      ],
      "metadata": {
        "colab": {
          "base_uri": "https://localhost:8080/"
        },
        "id": "MIDzSMgg3G84",
        "outputId": "0189c8fb-1eb2-464d-c868-e3f8db522d77"
      },
      "execution_count": null,
      "outputs": [
        {
          "output_type": "stream",
          "name": "stdout",
          "text": [
            "Size of the tuple is: 4\n",
            "('Best Mystery & Thriller', 'The Silent Patient', 68, 821)\n",
            "('Best Horror', 'The Institute', 75, 717)\n",
            "('Best History & Biography', 'The five', 31, 783)\n",
            "('Best Fiction', 'The Testaments', 98, 291)\n"
          ]
        }
      ]
    },
    {
      "cell_type": "code",
      "source": [
        "#task 4\n",
        "book_info = (\n",
        "(\"Best Mystery & Thriller\",\"The Silent Patient\",68821),\n",
        "(\"Best Horror\",\"The Institute\",75717),\n",
        "(\"Best History & Biography\",\"The five\",31783 ),\n",
        "(\"Best Fiction\",\"The Testaments\",98291)\n",
        ")\n",
        "for a,b,c in book_info:\n",
        "  print(b,'won the',\"'\"+a+\"'\",'with',c,'votes')"
      ],
      "metadata": {
        "colab": {
          "base_uri": "https://localhost:8080/"
        },
        "id": "56iJlXEh3KYg",
        "outputId": "597768d7-a4f8-4ffe-c823-228fffcb25de"
      },
      "execution_count": null,
      "outputs": [
        {
          "output_type": "stream",
          "name": "stdout",
          "text": [
            "The Silent Patient won the 'Best Mystery & Thriller' with 68821 votes\n",
            "The Institute won the 'Best Horror' with 75717 votes\n",
            "The five won the 'Best History & Biography' with 31783 votes\n",
            "The Testaments won the 'Best Fiction' with 98291 votes\n"
          ]
        }
      ]
    },
    {
      "cell_type": "code",
      "source": [
        "#task 5\n",
        "t=(10, 8, 5, 2, 10, 15, 10, 8, 5, 8, 8, 2)\n",
        "c=0\n",
        "n=int(input())\n",
        "for i in t:\n",
        "  if i==n:\n",
        "    c+=1\n",
        "print(n,'appears',c,'times in the tuple')"
      ],
      "metadata": {
        "colab": {
          "base_uri": "https://localhost:8080/"
        },
        "id": "JcqKPDJT3ONX",
        "outputId": "3c0dcff1-dc81-47da-caa6-4ef7b0262d55"
      },
      "execution_count": null,
      "outputs": [
        {
          "output_type": "stream",
          "name": "stdout",
          "text": [
            "8\n",
            "8 appears 4 times in the tuple\n"
          ]
        }
      ]
    },
    {
      "cell_type": "code",
      "source": [
        "#task 6\n",
        "t=('a', 'b', 'c', 'd', 'e', 'f', 'g', 'h')\n",
        "l=list(t)\n",
        "k=[]\n",
        "for i in range(-1,-len(l)-1,-1):\n",
        "  i=t[i]\n",
        "  k.append(i)\n",
        "print(tuple(k))"
      ],
      "metadata": {
        "colab": {
          "base_uri": "https://localhost:8080/"
        },
        "id": "zTxquXBf3ReX",
        "outputId": "bdd2a29c-8239-425c-c078-50ff2e27ad46"
      },
      "execution_count": null,
      "outputs": [
        {
          "output_type": "stream",
          "name": "stdout",
          "text": [
            "('h', 'g', 'f', 'e', 'd', 'c', 'b', 'a')\n"
          ]
        }
      ]
    },
    {
      "cell_type": "code",
      "source": [
        "#Task - 7\n",
        "dict1 = {'Harry':15, 'Draco':8, 'Nevil':19}\n",
        "dict2 = {'Ginie':18, 'Luna': 14}\n",
        "\n",
        "marks ={}\n",
        "for i in dict2 :\n",
        "  dict1[i] = dict2[i]\n",
        "  mark = dict1\n",
        "print(mark)"
      ],
      "metadata": {
        "id": "4zIm6p5O3RWH",
        "colab": {
          "base_uri": "https://localhost:8080/"
        },
        "outputId": "e5debf01-e6c1-4133-c8ab-017fb046a34f"
      },
      "execution_count": 1,
      "outputs": [
        {
          "output_type": "stream",
          "name": "stdout",
          "text": [
            "{'Harry': 15, 'Draco': 8, 'Nevil': 19, 'Ginie': 18, 'Luna': 14}\n"
          ]
        }
      ]
    },
    {
      "cell_type": "code",
      "source": [
        "#Task - 7\n",
        "dict1 = {'Harry':15, 'Draco':8, 'Nevil':19}\n",
        "dict2 = {'Ginie':18, 'Luna': 14}\n",
        "#dict1.update(dict2)\n",
        "for i in dict2 :\n",
        "  dict1[i] = dict2[i]\n",
        "print(dict1)"
      ],
      "metadata": {
        "id": "5SY14oUNdItl",
        "colab": {
          "base_uri": "https://localhost:8080/"
        },
        "outputId": "8049190c-af39-4e77-aba0-df2edde6d3d6"
      },
      "execution_count": null,
      "outputs": [
        {
          "output_type": "stream",
          "name": "stdout",
          "text": [
            "{'Harry': 15, 'Draco': 8, 'Nevil': 19, 'Ginie': 18, 'Luna': 14}\n"
          ]
        }
      ]
    },
    {
      "cell_type": "code",
      "source": [
        "#Task - 8\n",
        "str1 = input()#Jon:100, Dan:200, Rob:30, Ned:110\n",
        "list1 = str1.split(\", \")\n",
        "#list1 = ['Jon:100', 'Dan:200', 'Rob:30', 'Ned:110']\n",
        "dict1 = {}\n",
        "for i in list1 :\n",
        "  list2 = i.split(\":\")#i1 = 'Jon':'100' #list2 = [\"Jon\" , \"100\"]\n",
        "  dict1[list2[0]]= int(list2[1])\n",
        "sum   = 0\n",
        "count = 0\n",
        "for val in dict1.values() :\n",
        "  count = count + 1\n",
        "  sum   = sum + (val)\n",
        "print(\"Average is\",int(sum/count))\n",
        "\n"
      ],
      "metadata": {
        "colab": {
          "base_uri": "https://localhost:8080/"
        },
        "id": "3ZzQHgEclaE-",
        "outputId": "09b8e632-d633-482f-c41d-526eea90fa62"
      },
      "execution_count": null,
      "outputs": [
        {
          "output_type": "stream",
          "name": "stdout",
          "text": [
            "Jon:100, Dan:200, Rob:300\n",
            "Average is 200\n"
          ]
        }
      ]
    },
    {
      "cell_type": "code",
      "source": [
        "#task 9\n",
        "exam_marks = {'Cierra Vega': 175, 'Alden Cantrell': 200, 'Kierra Gentry': 165, 'Pierre Cox': 190}\n",
        "dict1={}\n",
        "n=int(input())\n",
        "for i in exam_marks :\n",
        "  if exam_marks[i] >= n :\n",
        "    dict1[i] = exam_marks[i]\n",
        "print(dict1)"
      ],
      "metadata": {
        "colab": {
          "base_uri": "https://localhost:8080/"
        },
        "id": "NB5lO6GE2rRs",
        "outputId": "f461e892-aa2b-4a54-e7af-e95723f14641"
      },
      "execution_count": null,
      "outputs": [
        {
          "output_type": "stream",
          "name": "stdout",
          "text": [
            "190\n",
            "{'Alden Cantrell': 200, 'Pierre Cox': 190}\n"
          ]
        }
      ]
    },
    {
      "cell_type": "code",
      "source": [
        "#task 10\n",
        "dict1={'sci fi': 12, 'mystery': 15, 'horror': 8, 'mythology': 10, 'young_adult': 4, 'adventure': 14}\n",
        "max=int()\n",
        "for i in dict1:\n",
        "  if dict1[i]>max:\n",
        "    max=dict1[i]\n",
        "    c=i\n",
        "print(f\"The highest selling book genre is '{c}' and the number of books sold are {max} \")"
      ],
      "metadata": {
        "colab": {
          "base_uri": "https://localhost:8080/"
        },
        "id": "O9WXuzYq6SNC",
        "outputId": "99dbdb42-bf16-4f60-f664-5de9038be18b"
      },
      "execution_count": null,
      "outputs": [
        {
          "output_type": "stream",
          "name": "stdout",
          "text": [
            "The highest selling book genre is 'mystery' and the number of books sold are 15 \n"
          ]
        }
      ]
    },
    {
      "cell_type": "code",
      "source": [
        "#task 11\n",
        "str1=input().lower()   #\"Python programming is fun\"\n",
        "lower_str =str1[1:-1]  #python programming is fun\n",
        "lower_str_non_space = ''\n",
        "dict1 = {}\n",
        "for i in lower_str :\n",
        "  if i != ' ':\n",
        "    lower_str_non_space  =  lower_str_non_space + i #pythonprogrammingisfun\n",
        "for j in lower_str_non_space:\n",
        "  if j in dict1:\n",
        "    dict1[j] = dict1[j] + 1\n",
        "    continue\n",
        "  else:\n",
        "    dict1[j] = 1\n",
        "print(dict1)"
      ],
      "metadata": {
        "colab": {
          "base_uri": "https://localhost:8080/"
        },
        "id": "NpBW7WOwBmFi",
        "outputId": "605f97fb-03b1-4d75-def3-4adc5a489bd9"
      },
      "execution_count": null,
      "outputs": [
        {
          "output_type": "stream",
          "name": "stdout",
          "text": [
            "\"Python programming is fun\"\n",
            "{'p': 2, 'y': 1, 't': 1, 'h': 1, 'o': 2, 'n': 3, 'r': 2, 'g': 2, 'a': 1, 'm': 2, 'i': 2, 's': 1, 'f': 1, 'u': 1}\n"
          ]
        }
      ]
    },
    {
      "cell_type": "code",
      "source": [
        "#task 12\n",
        "dict_1 = {'A': [1, 2, 3], 'b': ['1', '2'], \"c\": [4, 5, 6, 7]}\n",
        "tup = (dict_1.items())\n",
        "listx = []\n",
        "count = 0\n",
        "for key , val in tup :\n",
        "  listx = listx + val\n",
        "for val in listx :\n",
        "  count = count + 1\n",
        "print(count)"
      ],
      "metadata": {
        "colab": {
          "base_uri": "https://localhost:8080/"
        },
        "id": "5UW7DMgyF1GL",
        "outputId": "dcb96c11-a2f8-4068-92b5-bc2555fd4017"
      },
      "execution_count": null,
      "outputs": [
        {
          "output_type": "stream",
          "name": "stdout",
          "text": [
            "9\n"
          ]
        }
      ]
    },
    {
      "cell_type": "code",
      "source": [
        "#task 13\n",
        "list_1 = [(\"a\", 1), (\"b\", 2), (\"a\", 3), (\"b\", 1), (\"a\", 2), (\"c\", 1)]\n",
        "dict1 = {}\n",
        "\n",
        "for key , val in list_1 :\n",
        "  if key in dict1 :\n",
        "    dict1[key].append(val)\n",
        "    continue\n",
        "  dict1[key] = [val]\n",
        "print(dict1)"
      ],
      "metadata": {
        "colab": {
          "base_uri": "https://localhost:8080/"
        },
        "id": "bjSq4k-DHWOG",
        "outputId": "7cc0f373-96bb-4e0c-e7de-bb8882a7949b"
      },
      "execution_count": null,
      "outputs": [
        {
          "output_type": "stream",
          "name": "stdout",
          "text": [
            "{'a': [1, 3, 2], 'b': [2, 1], 'c': [1]}\n"
          ]
        }
      ]
    },
    {
      "cell_type": "code",
      "source": [
        "#find lowest alpha pair\n",
        "x =  [(\"a\",-1),(\"b\",-2),(\"c\",3),(\"d\",-8)]\n",
        "min = x[0][1]\n",
        "min_key = \"\"\n",
        "for k , v in x :\n",
        "  if v < min  :\n",
        "    min = v\n",
        "    min_key = k\n",
        "print(min_key)\n"
      ],
      "metadata": {
        "colab": {
          "base_uri": "https://localhost:8080/"
        },
        "id": "_1RoNAu7kWKm",
        "outputId": "61ac0b11-dd53-460e-fc79-96715a3cd730"
      },
      "execution_count": null,
      "outputs": [
        {
          "output_type": "stream",
          "name": "stdout",
          "text": [
            "d\n"
          ]
        }
      ]
    }
  ]
}
