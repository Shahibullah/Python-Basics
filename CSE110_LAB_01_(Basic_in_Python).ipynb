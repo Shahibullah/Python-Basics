{
  "nbformat": 4,
  "nbformat_minor": 0,
  "metadata": {
    "colab": {
      "provenance": []
    },
    "kernelspec": {
      "name": "python3",
      "display_name": "Python 3"
    },
    "language_info": {
      "name": "python"
    }
  },
  "cells": [
    {
      "cell_type": "code",
      "execution_count": null,
      "metadata": {
        "id": "lAh9VQ-iGuEz",
        "colab": {
          "base_uri": "https://localhost:8080/"
        },
        "outputId": "c888a1b7-ab05-4f37-aba4-60793f4d4146"
      },
      "outputs": [
        {
          "output_type": "stream",
          "name": "stdout",
          "text": [
            "hello world\n"
          ]
        }
      ],
      "source": [
        "#Task 1\n",
        "print(\"hello world\")"
      ]
    },
    {
      "cell_type": "code",
      "source": [
        "#Task 2\n",
        "print( 54 + 56)"
      ],
      "metadata": {
        "colab": {
          "base_uri": "https://localhost:8080/"
        },
        "id": "U2jE0JK5O-Oh",
        "outputId": "f68b57ee-19d7-4df3-e3b0-495d07ed4963"
      },
      "execution_count": null,
      "outputs": [
        {
          "output_type": "stream",
          "name": "stdout",
          "text": [
            "110\n"
          ]
        }
      ]
    },
    {
      "cell_type": "code",
      "source": [
        "#Task 3\n",
        "season = 'Summer'\n",
        "year = \"2024\"\n",
        "print(season)\n",
        "print(year)"
      ],
      "metadata": {
        "colab": {
          "base_uri": "https://localhost:8080/"
        },
        "id": "VeoL1uQ9VGfi",
        "outputId": "f3d824d5-0a9d-4ac1-8e67-c8d1856c9d98"
      },
      "execution_count": null,
      "outputs": [
        {
          "output_type": "stream",
          "name": "stdout",
          "text": [
            "Summer\n",
            "2024\n"
          ]
        }
      ]
    },
    {
      "cell_type": "code",
      "source": [
        "#Task 4\n",
        "x = input(\"user's name\")\n",
        "print(\"Your name is \"+x)"
      ],
      "metadata": {
        "colab": {
          "base_uri": "https://localhost:8080/"
        },
        "id": "AT7iaImsVxwT",
        "outputId": "21d49ce8-24ec-49b4-c16a-8271a25c3613"
      },
      "execution_count": null,
      "outputs": [
        {
          "output_type": "stream",
          "name": "stdout",
          "text": [
            "user's nameShahib\n",
            "Your name is Shahib\n"
          ]
        }
      ]
    },
    {
      "cell_type": "code",
      "source": [
        "#Task 5\n",
        "m = int(input(\"Base :\"))\n",
        "n  = int(input(\"Power :\"))\n",
        "result = m**n\n",
        "print(str(m)+\"^\"+str(n)+\":\"+\" \"+str(result))"
      ],
      "metadata": {
        "colab": {
          "base_uri": "https://localhost:8080/"
        },
        "id": "V6D-GZrQWkr6",
        "outputId": "0a436d0b-3788-4a62-81c5-edbee0a5e1e3"
      },
      "execution_count": null,
      "outputs": [
        {
          "output_type": "stream",
          "name": "stdout",
          "text": [
            "Base :2\n",
            "Power :3\n",
            "2^3: 8\n"
          ]
        }
      ]
    },
    {
      "cell_type": "code",
      "source": [
        "#Task 6\n",
        "x =int(input(\"Number of sailor\"))\n",
        "can_take = x//4\n",
        "print(can_take*4)"
      ],
      "metadata": {
        "colab": {
          "base_uri": "https://localhost:8080/"
        },
        "id": "S3YXoNObXrbS",
        "outputId": "bf63ac14-4130-4331-bea5-ae172fbf6334"
      },
      "execution_count": null,
      "outputs": [
        {
          "output_type": "stream",
          "name": "stdout",
          "text": [
            "Number of sailor23\n",
            "20\n"
          ]
        }
      ]
    },
    {
      "cell_type": "code",
      "source": [
        "#Task 7\n",
        "a  = float(input(\"A :\"))\n",
        "b  = float(input(\"B :\"))\n",
        "c  = float(input(\"C :\"))\n",
        "d  = float(input(\"D :\"))\n",
        "result = a**c+b*a-d/3\n",
        "print(int(result))"
      ],
      "metadata": {
        "id": "KKhZotI4ZuyI",
        "colab": {
          "base_uri": "https://localhost:8080/"
        },
        "outputId": "65411ff8-ae25-4636-ce47-82c819dfbf87"
      },
      "execution_count": null,
      "outputs": [
        {
          "output_type": "stream",
          "name": "stdout",
          "text": [
            "A :2\n",
            "B :6\n",
            "C :8\n",
            "D :1.3\n",
            "267\n"
          ]
        }
      ]
    },
    {
      "cell_type": "code",
      "source": [
        "#Task 8\n",
        "total = int(input(\"The number of chocolates :\"))\n",
        "receive = str(total//3)\n",
        "remain = (total - (int(receive) * 3))\n",
        "print(\"Each friend will receive \"+receive+\" chocolates\")\n",
        "print(\"The number of remaining chocolates is\",remain)"
      ],
      "metadata": {
        "colab": {
          "base_uri": "https://localhost:8080/"
        },
        "id": "4zy53I5pnPJl",
        "outputId": "0c131f6f-371e-47d6-a8bb-265498668931"
      },
      "execution_count": null,
      "outputs": [
        {
          "output_type": "stream",
          "name": "stdout",
          "text": [
            "The number of chocolates :50\n",
            "Each friend will receive 16 chocolates\n",
            "The number of remaining chocolates is 2\n"
          ]
        }
      ]
    },
    {
      "cell_type": "code",
      "source": [
        "#Task 9 [Ungraded]\n",
        "last = input(\"last one :\")\n",
        "first = input(\"First one :\")\n",
        "print(first+last)"
      ],
      "metadata": {
        "colab": {
          "base_uri": "https://localhost:8080/"
        },
        "id": "ZaYiNF_xpa-j",
        "outputId": "976a6439-18e7-4085-cb5a-4c371699d29c"
      },
      "execution_count": null,
      "outputs": [
        {
          "output_type": "stream",
          "name": "stdout",
          "text": [
            "last one :5\n",
            "First one :2\n",
            "25\n"
          ]
        }
      ]
    },
    {
      "cell_type": "code",
      "source": [
        "#Task 10 [Ungraded]\n",
        "first = input(\"First : \")\n",
        "second = input(\"Second : \")\n",
        "third  = input(\"Third : \")\n",
        "print(first+\",\"+second+\",\"+third)"
      ],
      "metadata": {
        "colab": {
          "base_uri": "https://localhost:8080/"
        },
        "id": "leph3M7sqPE3",
        "outputId": "9fa45baf-dce8-46b3-c919-6229a13db9fd"
      },
      "execution_count": null,
      "outputs": [
        {
          "output_type": "stream",
          "name": "stdout",
          "text": [
            "First : 1\n",
            "Second : 2\n",
            "Third : 3\n",
            "1,2,3\n"
          ]
        }
      ]
    },
    {
      "cell_type": "code",
      "source": [
        "#Task 11 [Ungraded]\n",
        "n = int(input(\"Even chceker : \"))\n",
        "if n % 2 == 0 :\n",
        "  print(\"True\")\n",
        "else:\n",
        "  print(\"False\")"
      ],
      "metadata": {
        "colab": {
          "base_uri": "https://localhost:8080/"
        },
        "id": "FErNwUpWrNZy",
        "outputId": "ce881879-755a-4f6a-8fe5-491011a41fee"
      },
      "execution_count": null,
      "outputs": [
        {
          "output_type": "stream",
          "name": "stdout",
          "text": [
            "Even chceker : 1\n",
            "False\n"
          ]
        }
      ]
    }
  ]
}