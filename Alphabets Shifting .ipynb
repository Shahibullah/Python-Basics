{
 "cells": [
  {
   "cell_type": "code",
   "execution_count": 2,
   "metadata": {},
   "outputs": [
    {
     "name": "stdout",
     "output_type": "stream",
     "text": [
      "hello world\n"
     ]
    }
   ],
   "source": [
    "#Task 1\n",
    "print(\"hello world\")"
   ]
  },
  {
   "cell_type": "code",
   "execution_count": 7,
   "metadata": {},
   "outputs": [
    {
     "name": "stdout",
     "output_type": "stream",
     "text": [
      "110\n"
     ]
    }
   ],
   "source": [
    "#Task 2\n",
    "print( 54 + 56)"
   ]
  },
  {
   "cell_type": "code",
   "execution_count": 44,
   "metadata": {},
   "outputs": [
    {
     "name": "stdout",
     "output_type": "stream",
     "text": [
      "B\n"
     ]
    }
   ],
   "source": [
    "x = input(\"Enter anything; if there is any alphabet, it will shift according to its position, and for other strings, it will remain the same\") \n",
    "temp = \"\"\n",
    "\n",
    "for i in range (len(x)):\n",
    "    if 'A'  <= x[i] <= 'Z':\n",
    "        count = 0\n",
    "        increase =(ord(x[i]))+1 - 65\n",
    "        if ord(x[i]) > 77:\n",
    "            for j in range(1,increase+1):\n",
    "                if ord(x[i]) + j >90:\n",
    "                    count += 1\n",
    "            temp += (chr(64+count+32))\n",
    "        else:\n",
    "            temp += chr(ord(x[i])+increase+32)\n",
    "    elif 'a'  <= x[i] <= 'z':\n",
    "        count = 0\n",
    "        increase =(ord(x[i]))+1 - 97\n",
    "        if ord(x[i]) > 109: \n",
    "            for j in range(1,increase+1):\n",
    "                if ord(x[i]) + j >122:\n",
    "                    count += 1\n",
    "            temp += (chr(64+count))\n",
    "        else:\n",
    "            t = x[i]\n",
    "            temp += chr(ord(x[i])+increase-32)\n",
    "    else:\n",
    "        temp += x[i]\n",
    "\n",
    "print(temp)"
   ]
  }
 ],
 "metadata": {
  "kernelspec": {
   "display_name": "Python 3",
   "language": "python",
   "name": "python3"
  },
  "language_info": {
   "codemirror_mode": {
    "name": "ipython",
    "version": 3
   },
   "file_extension": ".py",
   "mimetype": "text/x-python",
   "name": "python",
   "nbconvert_exporter": "python",
   "pygments_lexer": "ipython3",
   "version": "3.12.3"
  }
 },
 "nbformat": 4,
 "nbformat_minor": 2
}
